{
 "cells": [
  {
   "cell_type": "markdown",
   "metadata": {},
   "source": [
    "# Imports"
   ]
  },
  {
   "cell_type": "code",
   "execution_count": 1,
   "metadata": {},
   "outputs": [],
   "source": [
    "from lichess_analyzer.services.api_scraping import get_games\n",
    "from lichess_analyzer.services.move_tree import MoveTree\n",
    "from lichess_analyzer.services.my_openings import white_book_openings\n",
    "from lichess_analyzer.services.opening_variation import OpeningVariation\n",
    "from lichess_analyzer.services.book_opening_check import check_follows_book_opening"
   ]
  },
  {
   "cell_type": "markdown",
   "metadata": {},
   "source": [
    "# Settings"
   ]
  },
  {
   "cell_type": "code",
   "execution_count": 5,
   "metadata": {},
   "outputs": [],
   "source": [
    "API_TOKEN = \"\"\n",
    "USER_NAME = \"xXLAOKOONXx\"\n",
    "GAME_COUNT = 500\n",
    "RATED_ONLY = True"
   ]
  },
  {
   "cell_type": "code",
   "execution_count": 6,
   "metadata": {},
   "outputs": [],
   "source": [
    "# if API_TOKEN is empty, read it from file\n",
    "if API_TOKEN == \"\":\n",
    "    with open(\"api_token.txt\") as f:\n",
    "        API_TOKEN = f.readline().strip()"
   ]
  },
  {
   "cell_type": "markdown",
   "metadata": {},
   "source": [
    "# Get Game List"
   ]
  },
  {
   "cell_type": "code",
   "execution_count": null,
   "metadata": {},
   "outputs": [],
   "source": [
    "games_list = get_games(\n",
    "  api_token=API_TOKEN,\n",
    "  user_name=USER_NAME,\n",
    "  game_count=GAME_COUNT,\n",
    "  rated_only=RATED_ONLY)"
   ]
  },
  {
   "cell_type": "code",
   "execution_count": null,
   "metadata": {},
   "outputs": [],
   "source": [
    "print(f'wins: {len([g for g in games_list if g[\"result\"] == \"win\"])}')\n",
    "print(f'ties: {len([g for g in games_list if g[\"result\"] == \"tie\"])}')\n",
    "print(f'losses: {len([g for g in games_list if g[\"result\"] == \"loss\"])}')\n",
    "print(f'Total games: {len(games_list)}')"
   ]
  },
  {
   "cell_type": "markdown",
   "metadata": {},
   "source": [
    "# Move Tree\n",
    "\n",
    "Section to analyze the moves based on their uniqueness"
   ]
  },
  {
   "cell_type": "markdown",
   "metadata": {},
   "source": [
    "## Analyzing Move Tree\n",
    "\n",
    "You can initialize a MoveTree object with a list of games and the step -1.\n",
    "\n",
    "The resulting object represents all the games ordered by move.\n",
    "\n"
   ]
  },
  {
   "cell_type": "code",
   "execution_count": 9,
   "metadata": {},
   "outputs": [],
   "source": [
    "# Split games into black and white games\n",
    "black_games = [g for g in games_list if g[\"side\"] == \"black\"]\n",
    "white_games = [g for g in games_list if g[\"side\"] == \"white\"]\n",
    "# Create trees for black and white games\n",
    "black_openings = MoveTree(black_games, -1)\n",
    "white_openings = MoveTree(white_games, -1)\n",
    "# Print the trees to files\n",
    "black_openings.gridprint_file(f'{USER_NAME}_black_openings.txt')\n",
    "white_openings.gridprint_file(f'{USER_NAME}_white_openings.txt')"
   ]
  },
  {
   "cell_type": "markdown",
   "metadata": {},
   "source": [
    "# Opening Variation Analyzis\n",
    "\n",
    "This section analyzes how the games followed defined opening rules."
   ]
  },
  {
   "cell_type": "markdown",
   "metadata": {},
   "source": [
    "## Check the book opening and actual openings\n",
    "\n",
    "This is important for later analyzis as well!"
   ]
  },
  {
   "cell_type": "code",
   "execution_count": null,
   "metadata": {},
   "outputs": [],
   "source": [
    "check_follows_book_opening(white_book_openings, white_openings)"
   ]
  },
  {
   "cell_type": "markdown",
   "metadata": {},
   "source": [
    "## Print files with analyzis\n",
    "\n",
    "Creating files which show how the games were played and where the book is missing answers or the right move got forgotten."
   ]
  },
  {
   "cell_type": "code",
   "execution_count": 14,
   "metadata": {},
   "outputs": [],
   "source": [
    "white_openings.gridprint_file(f'{USER_NAME}_white_openings_opinionated.txt')"
   ]
  },
  {
   "cell_type": "code",
   "execution_count": 15,
   "metadata": {},
   "outputs": [],
   "source": [
    "white_book_openings.gridprint_file(f'{USER_NAME}_white_openings_book.txt')"
   ]
  }
 ],
 "metadata": {
  "kernelspec": {
   "display_name": "lichess-analyzer-ee4pNXB2-py3.12",
   "language": "python",
   "name": "python3"
  },
  "language_info": {
   "codemirror_mode": {
    "name": "ipython",
    "version": 3
   },
   "file_extension": ".py",
   "mimetype": "text/x-python",
   "name": "python",
   "nbconvert_exporter": "python",
   "pygments_lexer": "ipython3",
   "version": "3.12.1"
  }
 },
 "nbformat": 4,
 "nbformat_minor": 2
}
